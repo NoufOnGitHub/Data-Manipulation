{
 "cells": [
  {
   "cell_type": "code",
   "execution_count": 29,
   "id": "2b88fcc7-2346-4a21-9ecb-1501f4e12070",
   "metadata": {
    "tags": []
   },
   "outputs": [],
   "source": [
    "%matplotlib inline\n",
    "import pandas as pd\n",
    "import numpy as np\n",
    "import matplotlib.pyplot as plt"
   ]
  },
  {
   "cell_type": "code",
   "execution_count": 30,
   "id": "600d8132-03bb-4914-8a5c-2067fd638378",
   "metadata": {},
   "outputs": [],
   "source": [
    "df = pd.read_csv('burritos.csv')"
   ]
  },
  {
   "cell_type": "code",
   "execution_count": 31,
   "id": "0ea5277f-be2b-4ed5-b3fa-1a26f66bcea3",
   "metadata": {},
   "outputs": [
    {
     "data": {
      "text/html": [
       "<div>\n",
       "<style scoped>\n",
       "    .dataframe tbody tr th:only-of-type {\n",
       "        vertical-align: middle;\n",
       "    }\n",
       "\n",
       "    .dataframe tbody tr th {\n",
       "        vertical-align: top;\n",
       "    }\n",
       "\n",
       "    .dataframe thead th {\n",
       "        text-align: right;\n",
       "    }\n",
       "</style>\n",
       "<table border=\"1\" class=\"dataframe\">\n",
       "  <thead>\n",
       "    <tr style=\"text-align: right;\">\n",
       "      <th></th>\n",
       "      <th>Location</th>\n",
       "      <th>Burrito</th>\n",
       "      <th>Date</th>\n",
       "      <th>Neighborhood</th>\n",
       "      <th>Address</th>\n",
       "      <th>URL</th>\n",
       "      <th>Yelp</th>\n",
       "      <th>Google</th>\n",
       "      <th>Chips</th>\n",
       "      <th>Cost</th>\n",
       "      <th>...</th>\n",
       "      <th>Nopales</th>\n",
       "      <th>Lobster</th>\n",
       "      <th>Queso</th>\n",
       "      <th>Egg</th>\n",
       "      <th>Mushroom</th>\n",
       "      <th>Bacon</th>\n",
       "      <th>Sushi</th>\n",
       "      <th>Avocado</th>\n",
       "      <th>Corn</th>\n",
       "      <th>Zucchini</th>\n",
       "    </tr>\n",
       "  </thead>\n",
       "  <tbody>\n",
       "    <tr>\n",
       "      <th>0</th>\n",
       "      <td>Donato's taco shop</td>\n",
       "      <td>California</td>\n",
       "      <td>1/18/2016</td>\n",
       "      <td>Miramar</td>\n",
       "      <td>6780 Miramar Rd</td>\n",
       "      <td>http://donatostacoshop.net/</td>\n",
       "      <td>3.5</td>\n",
       "      <td>4.2</td>\n",
       "      <td>NaN</td>\n",
       "      <td>6.49</td>\n",
       "      <td>...</td>\n",
       "      <td>NaN</td>\n",
       "      <td>NaN</td>\n",
       "      <td>NaN</td>\n",
       "      <td>NaN</td>\n",
       "      <td>NaN</td>\n",
       "      <td>NaN</td>\n",
       "      <td>NaN</td>\n",
       "      <td>NaN</td>\n",
       "      <td>NaN</td>\n",
       "      <td>NaN</td>\n",
       "    </tr>\n",
       "    <tr>\n",
       "      <th>1</th>\n",
       "      <td>Oscar's Mexican food</td>\n",
       "      <td>California</td>\n",
       "      <td>1/24/2016</td>\n",
       "      <td>San Marcos</td>\n",
       "      <td>225 S Rancho Santa Fe Rd</td>\n",
       "      <td>http://www.yelp.com/biz/oscars-mexican-food-sa...</td>\n",
       "      <td>3.5</td>\n",
       "      <td>3.3</td>\n",
       "      <td>NaN</td>\n",
       "      <td>5.45</td>\n",
       "      <td>...</td>\n",
       "      <td>NaN</td>\n",
       "      <td>NaN</td>\n",
       "      <td>NaN</td>\n",
       "      <td>NaN</td>\n",
       "      <td>NaN</td>\n",
       "      <td>NaN</td>\n",
       "      <td>NaN</td>\n",
       "      <td>NaN</td>\n",
       "      <td>NaN</td>\n",
       "      <td>NaN</td>\n",
       "    </tr>\n",
       "    <tr>\n",
       "      <th>2</th>\n",
       "      <td>Oscar's Mexican food</td>\n",
       "      <td>Carnitas</td>\n",
       "      <td>1/24/2016</td>\n",
       "      <td>NaN</td>\n",
       "      <td>NaN</td>\n",
       "      <td>NaN</td>\n",
       "      <td>NaN</td>\n",
       "      <td>NaN</td>\n",
       "      <td>NaN</td>\n",
       "      <td>4.85</td>\n",
       "      <td>...</td>\n",
       "      <td>NaN</td>\n",
       "      <td>NaN</td>\n",
       "      <td>NaN</td>\n",
       "      <td>NaN</td>\n",
       "      <td>NaN</td>\n",
       "      <td>NaN</td>\n",
       "      <td>NaN</td>\n",
       "      <td>NaN</td>\n",
       "      <td>NaN</td>\n",
       "      <td>NaN</td>\n",
       "    </tr>\n",
       "    <tr>\n",
       "      <th>3</th>\n",
       "      <td>Oscar's Mexican food</td>\n",
       "      <td>Carne asada</td>\n",
       "      <td>1/24/2016</td>\n",
       "      <td>NaN</td>\n",
       "      <td>NaN</td>\n",
       "      <td>NaN</td>\n",
       "      <td>NaN</td>\n",
       "      <td>NaN</td>\n",
       "      <td>NaN</td>\n",
       "      <td>5.25</td>\n",
       "      <td>...</td>\n",
       "      <td>NaN</td>\n",
       "      <td>NaN</td>\n",
       "      <td>NaN</td>\n",
       "      <td>NaN</td>\n",
       "      <td>NaN</td>\n",
       "      <td>NaN</td>\n",
       "      <td>NaN</td>\n",
       "      <td>NaN</td>\n",
       "      <td>NaN</td>\n",
       "      <td>NaN</td>\n",
       "    </tr>\n",
       "    <tr>\n",
       "      <th>4</th>\n",
       "      <td>Pollos Maria</td>\n",
       "      <td>California</td>\n",
       "      <td>1/27/2016</td>\n",
       "      <td>Carlsbad</td>\n",
       "      <td>3055 Harding St</td>\n",
       "      <td>http://pollosmaria.com/</td>\n",
       "      <td>4.0</td>\n",
       "      <td>3.8</td>\n",
       "      <td>x</td>\n",
       "      <td>6.59</td>\n",
       "      <td>...</td>\n",
       "      <td>NaN</td>\n",
       "      <td>NaN</td>\n",
       "      <td>NaN</td>\n",
       "      <td>NaN</td>\n",
       "      <td>NaN</td>\n",
       "      <td>NaN</td>\n",
       "      <td>NaN</td>\n",
       "      <td>NaN</td>\n",
       "      <td>NaN</td>\n",
       "      <td>NaN</td>\n",
       "    </tr>\n",
       "    <tr>\n",
       "      <th>...</th>\n",
       "      <td>...</td>\n",
       "      <td>...</td>\n",
       "      <td>...</td>\n",
       "      <td>...</td>\n",
       "      <td>...</td>\n",
       "      <td>...</td>\n",
       "      <td>...</td>\n",
       "      <td>...</td>\n",
       "      <td>...</td>\n",
       "      <td>...</td>\n",
       "      <td>...</td>\n",
       "      <td>...</td>\n",
       "      <td>...</td>\n",
       "      <td>...</td>\n",
       "      <td>...</td>\n",
       "      <td>...</td>\n",
       "      <td>...</td>\n",
       "      <td>...</td>\n",
       "      <td>...</td>\n",
       "      <td>...</td>\n",
       "      <td>...</td>\n",
       "    </tr>\n",
       "    <tr>\n",
       "      <th>418</th>\n",
       "      <td>Valentine's Mexican Food</td>\n",
       "      <td>Al Pastor</td>\n",
       "      <td>8/27/2019</td>\n",
       "      <td>NaN</td>\n",
       "      <td>NaN</td>\n",
       "      <td>NaN</td>\n",
       "      <td>NaN</td>\n",
       "      <td>NaN</td>\n",
       "      <td>NaN</td>\n",
       "      <td>6.00</td>\n",
       "      <td>...</td>\n",
       "      <td>NaN</td>\n",
       "      <td>NaN</td>\n",
       "      <td>NaN</td>\n",
       "      <td>NaN</td>\n",
       "      <td>NaN</td>\n",
       "      <td>NaN</td>\n",
       "      <td>NaN</td>\n",
       "      <td>NaN</td>\n",
       "      <td>NaN</td>\n",
       "      <td>NaN</td>\n",
       "    </tr>\n",
       "    <tr>\n",
       "      <th>419</th>\n",
       "      <td>Valentine's Mexican Food</td>\n",
       "      <td>Chile Relleno</td>\n",
       "      <td>8/27/2019</td>\n",
       "      <td>NaN</td>\n",
       "      <td>NaN</td>\n",
       "      <td>NaN</td>\n",
       "      <td>NaN</td>\n",
       "      <td>NaN</td>\n",
       "      <td>NaN</td>\n",
       "      <td>6.00</td>\n",
       "      <td>...</td>\n",
       "      <td>NaN</td>\n",
       "      <td>NaN</td>\n",
       "      <td>NaN</td>\n",
       "      <td>NaN</td>\n",
       "      <td>NaN</td>\n",
       "      <td>NaN</td>\n",
       "      <td>NaN</td>\n",
       "      <td>NaN</td>\n",
       "      <td>NaN</td>\n",
       "      <td>NaN</td>\n",
       "    </tr>\n",
       "    <tr>\n",
       "      <th>420</th>\n",
       "      <td>Valentine's Mexican Food</td>\n",
       "      <td>California</td>\n",
       "      <td>8/27/2019</td>\n",
       "      <td>NaN</td>\n",
       "      <td>NaN</td>\n",
       "      <td>NaN</td>\n",
       "      <td>NaN</td>\n",
       "      <td>NaN</td>\n",
       "      <td>NaN</td>\n",
       "      <td>7.90</td>\n",
       "      <td>...</td>\n",
       "      <td>NaN</td>\n",
       "      <td>NaN</td>\n",
       "      <td>NaN</td>\n",
       "      <td>NaN</td>\n",
       "      <td>NaN</td>\n",
       "      <td>NaN</td>\n",
       "      <td>NaN</td>\n",
       "      <td>NaN</td>\n",
       "      <td>NaN</td>\n",
       "      <td>NaN</td>\n",
       "    </tr>\n",
       "    <tr>\n",
       "      <th>421</th>\n",
       "      <td>Valentine's Mexican Food</td>\n",
       "      <td>Shrimp</td>\n",
       "      <td>8/27/2019</td>\n",
       "      <td>NaN</td>\n",
       "      <td>NaN</td>\n",
       "      <td>NaN</td>\n",
       "      <td>NaN</td>\n",
       "      <td>NaN</td>\n",
       "      <td>NaN</td>\n",
       "      <td>7.90</td>\n",
       "      <td>...</td>\n",
       "      <td>NaN</td>\n",
       "      <td>NaN</td>\n",
       "      <td>NaN</td>\n",
       "      <td>NaN</td>\n",
       "      <td>NaN</td>\n",
       "      <td>NaN</td>\n",
       "      <td>NaN</td>\n",
       "      <td>NaN</td>\n",
       "      <td>NaN</td>\n",
       "      <td>NaN</td>\n",
       "    </tr>\n",
       "    <tr>\n",
       "      <th>422</th>\n",
       "      <td>Valentine's Mexican Food</td>\n",
       "      <td>Pollo Asado</td>\n",
       "      <td>8/27/2019</td>\n",
       "      <td>NaN</td>\n",
       "      <td>NaN</td>\n",
       "      <td>NaN</td>\n",
       "      <td>NaN</td>\n",
       "      <td>NaN</td>\n",
       "      <td>NaN</td>\n",
       "      <td>5.50</td>\n",
       "      <td>...</td>\n",
       "      <td>NaN</td>\n",
       "      <td>NaN</td>\n",
       "      <td>NaN</td>\n",
       "      <td>NaN</td>\n",
       "      <td>NaN</td>\n",
       "      <td>NaN</td>\n",
       "      <td>NaN</td>\n",
       "      <td>NaN</td>\n",
       "      <td>NaN</td>\n",
       "      <td>NaN</td>\n",
       "    </tr>\n",
       "  </tbody>\n",
       "</table>\n",
       "<p>423 rows × 66 columns</p>\n",
       "</div>"
      ],
      "text/plain": [
       "                     Location        Burrito       Date Neighborhood  \\\n",
       "0          Donato's taco shop    California   1/18/2016      Miramar   \n",
       "1        Oscar's Mexican food    California   1/24/2016   San Marcos   \n",
       "2        Oscar's Mexican food       Carnitas  1/24/2016          NaN   \n",
       "3        Oscar's Mexican food    Carne asada  1/24/2016          NaN   \n",
       "4                Pollos Maria     California  1/27/2016     Carlsbad   \n",
       "..                        ...            ...        ...          ...   \n",
       "418  Valentine's Mexican Food      Al Pastor  8/27/2019          NaN   \n",
       "419  Valentine's Mexican Food  Chile Relleno  8/27/2019          NaN   \n",
       "420  Valentine's Mexican Food     California  8/27/2019          NaN   \n",
       "421  Valentine's Mexican Food         Shrimp  8/27/2019          NaN   \n",
       "422  Valentine's Mexican Food    Pollo Asado  8/27/2019          NaN   \n",
       "\n",
       "                      Address  \\\n",
       "0             6780 Miramar Rd   \n",
       "1    225 S Rancho Santa Fe Rd   \n",
       "2                         NaN   \n",
       "3                         NaN   \n",
       "4             3055 Harding St   \n",
       "..                        ...   \n",
       "418                       NaN   \n",
       "419                       NaN   \n",
       "420                       NaN   \n",
       "421                       NaN   \n",
       "422                       NaN   \n",
       "\n",
       "                                                   URL  Yelp  Google Chips  \\\n",
       "0                          http://donatostacoshop.net/   3.5     4.2   NaN   \n",
       "1    http://www.yelp.com/biz/oscars-mexican-food-sa...   3.5     3.3   NaN   \n",
       "2                                                  NaN   NaN     NaN   NaN   \n",
       "3                                                  NaN   NaN     NaN   NaN   \n",
       "4                              http://pollosmaria.com/   4.0     3.8     x   \n",
       "..                                                 ...   ...     ...   ...   \n",
       "418                                                NaN   NaN     NaN   NaN   \n",
       "419                                                NaN   NaN     NaN   NaN   \n",
       "420                                                NaN   NaN     NaN   NaN   \n",
       "421                                                NaN   NaN     NaN   NaN   \n",
       "422                                                NaN   NaN     NaN   NaN   \n",
       "\n",
       "     Cost  ...  Nopales  Lobster  Queso  Egg  Mushroom  Bacon  Sushi  Avocado  \\\n",
       "0    6.49  ...      NaN      NaN    NaN  NaN       NaN    NaN    NaN      NaN   \n",
       "1    5.45  ...      NaN      NaN    NaN  NaN       NaN    NaN    NaN      NaN   \n",
       "2    4.85  ...      NaN      NaN    NaN  NaN       NaN    NaN    NaN      NaN   \n",
       "3    5.25  ...      NaN      NaN    NaN  NaN       NaN    NaN    NaN      NaN   \n",
       "4    6.59  ...      NaN      NaN    NaN  NaN       NaN    NaN    NaN      NaN   \n",
       "..    ...  ...      ...      ...    ...  ...       ...    ...    ...      ...   \n",
       "418  6.00  ...      NaN      NaN    NaN  NaN       NaN    NaN    NaN      NaN   \n",
       "419  6.00  ...      NaN      NaN    NaN  NaN       NaN    NaN    NaN      NaN   \n",
       "420  7.90  ...      NaN      NaN    NaN  NaN       NaN    NaN    NaN      NaN   \n",
       "421  7.90  ...      NaN      NaN    NaN  NaN       NaN    NaN    NaN      NaN   \n",
       "422  5.50  ...      NaN      NaN    NaN  NaN       NaN    NaN    NaN      NaN   \n",
       "\n",
       "     Corn  Zucchini  \n",
       "0     NaN       NaN  \n",
       "1     NaN       NaN  \n",
       "2     NaN       NaN  \n",
       "3     NaN       NaN  \n",
       "4     NaN       NaN  \n",
       "..    ...       ...  \n",
       "418   NaN       NaN  \n",
       "419   NaN       NaN  \n",
       "420   NaN       NaN  \n",
       "421   NaN       NaN  \n",
       "422   NaN       NaN  \n",
       "\n",
       "[423 rows x 66 columns]"
      ]
     },
     "execution_count": 31,
     "metadata": {},
     "output_type": "execute_result"
    }
   ],
   "source": [
    "df"
   ]
  },
  {
   "cell_type": "markdown",
   "id": "ac674bd2-0fe0-4261-8575-8515320487ed",
   "metadata": {},
   "source": [
    "4 subplots of  histograms showcasing various columns before handling NaN values:"
   ]
  },
  {
   "cell_type": "code",
   "execution_count": 33,
   "id": "c83ff473-4577-4e45-98c1-76976f563dcc",
   "metadata": {},
   "outputs": [
    {
     "data": {
      "text/plain": [
       "Text(0.5, 1.0, 'Length Histogram')"
      ]
     },
     "execution_count": 33,
     "metadata": {},
     "output_type": "execute_result"
    },
    {
     "data": {
      "image/png": "[encoded data removed]",
      "text/plain": [
       "<Figure size 720x720 with 4 Axes>"
      ]
     },
     "metadata": {
      "needs_background": "light"
     },
     "output_type": "display_data"
    }
   ],
   "source": [
    "fig = plt.subplots(figsize=(10, 10))\n",
    "\n",
    "#first Histogram\n",
    "plt.subplot(2,2,1)\n",
    "plt.hist(df['Yelp'],bins = 35, alpha = 0.45, color = 'red')\n",
    "plt.xlabel(\"Ylep Reviews\")\n",
    "plt.title(\"Yelp Histogram\")\n",
    "\n",
    "#second Histogram\n",
    "plt.subplot(2,2,2)\n",
    "plt.hist(df['Google'],bins = 35, alpha = 0.45, color = 'blue')\n",
    "plt.xlabel(\"Google Reviews\")\n",
    "plt.title(\"Google Histogram\")\n",
    "\n",
    "#third Histogram\n",
    "plt.subplot(2,2,3)\n",
    "plt.hist(df['Cost'],bins = 35, alpha = 0.45, color = 'green')\n",
    "plt.xlabel(\"Cost\")\n",
    "plt.title(\"Cost Histogram\")\n",
    "\n",
    "#forth Histogram\n",
    "plt.subplot(2,2,4)\n",
    "plt.hist(df['Length'],bins = 35, alpha = 0.45,color = 'yellow')\n",
    "plt.xlabel(\"Length\")\n",
    "plt.title(\"Length Histogram\")"
   ]
  },
  {
   "cell_type": "markdown",
   "id": "4b637380-5a5a-41d6-845a-6b34179ddd98",
   "metadata": {},
   "source": [
    "Missing values:"
   ]
  },
  {
   "cell_type": "code",
   "execution_count": 34,
   "id": "1a571ff4-69c0-4f36-9bb0-9b7562979d55",
   "metadata": {},
   "outputs": [
    {
     "name": "stdout",
     "output_type": "stream",
     "text": [
      "No. of missing values in each column:Location          0\n",
      "Burrito           0\n",
      "Date              0\n",
      "Neighborhood    331\n",
      "Address         335\n",
      "               ... \n",
      "Bacon           420\n",
      "Sushi           421\n",
      "Avocado         410\n",
      "Corn            420\n",
      "Zucchini        422\n",
      "Length: 66, dtype: int64\n"
     ]
    }
   ],
   "source": [
    "print('No. of missing values in each column:'+ str(df.isna().sum()))"
   ]
  },
  {
   "cell_type": "code",
   "execution_count": 35,
   "id": "b1dcb0aa-424f-4946-89a9-34b202dd9b0c",
   "metadata": {},
   "outputs": [
    {
     "name": "stdout",
     "output_type": "stream",
     "text": [
      "Total amount of missing values:18256\n"
     ]
    }
   ],
   "source": [
    "print('Total amount of missing values:'+ str(df.isna().sum().sum()))"
   ]
  },
  {
   "cell_type": "markdown",
   "id": "ef08163a-c08e-4a64-ae76-191a1247a603",
   "metadata": {},
   "source": [
    "Replacing NaN values with mean() of the respective column:"
   ]
  },
  {
   "cell_type": "code",
   "execution_count": 36,
   "id": "f811631b-c549-4b0a-a553-49aa2ce30331",
   "metadata": {},
   "outputs": [
    {
     "name": "stdout",
     "output_type": "stream",
     "text": [
      "3.8873563218390803\n"
     ]
    }
   ],
   "source": [
    "print(df['Yelp'].mean())"
   ]
  },
  {
   "cell_type": "code",
   "execution_count": 37,
   "id": "983b63d9-dadf-4fe2-a122-c5d3a03dfcbb",
   "metadata": {},
   "outputs": [],
   "source": [
    "df['Yelp'].fillna(value=df['Yelp'].mean(), inplace=True)"
   ]
  },
  {
   "cell_type": "code",
   "execution_count": 49,
   "id": "6dabb0e9-0bb7-438c-a4a5-7b6bf05ea650",
   "metadata": {},
   "outputs": [
    {
     "data": {
      "image/png": "[encoded data removed]",
      "text/plain": [
       "<Figure size 432x288 with 1 Axes>"
      ]
     },
     "metadata": {
      "needs_background": "light"
     },
     "output_type": "display_data"
    }
   ],
   "source": [
    "plt.hist(df['Yelp'],bins = 35, alpha = 0.45, color = 'red')\n",
    "plt.xlabel(\"Ylep Reviews\")\n",
    "plt.title(\"Yelp Histogram\")\n",
    "plt.show()"
   ]
  },
  {
   "cell_type": "markdown",
   "id": "11f6b40e-bbe1-4f20-a4b0-5d914b48f37b",
   "metadata": {},
   "source": [
    "Replacing NaN values with median() of the respective column:"
   ]
  },
  {
   "cell_type": "code",
   "execution_count": 39,
   "id": "5495a64e-e3c0-438b-8c2f-0d763d658e1f",
   "metadata": {},
   "outputs": [
    {
     "name": "stdout",
     "output_type": "stream",
     "text": [
      "4.2\n"
     ]
    }
   ],
   "source": [
    "print(df['Google'].median())"
   ]
  },
  {
   "cell_type": "code",
   "execution_count": 40,
   "id": "a0163ece-4ae3-4b5b-b70f-b7978e48deb6",
   "metadata": {},
   "outputs": [],
   "source": [
    "df['Google'].fillna(value=df['Google'].median(), inplace=True)"
   ]
  },
  {
   "cell_type": "code",
   "execution_count": 50,
   "id": "75d39c8f-f95e-4e6f-aa8f-ed6b1475b984",
   "metadata": {},
   "outputs": [
    {
     "data": {
      "image/png": "[encoded data removed]",
      "text/plain": [
       "<Figure size 432x288 with 1 Axes>"
      ]
     },
     "metadata": {
      "needs_background": "light"
     },
     "output_type": "display_data"
    }
   ],
   "source": [
    "plt.hist(df['Google'],bins = 35, alpha = 0.45, color = 'blue')\n",
    "plt.xlabel(\"Google Reviews\")\n",
    "plt.title(\"Google Histogram\")\n",
    "plt.show()"
   ]
  },
  {
   "cell_type": "markdown",
   "id": "59a68906-1525-464f-81fd-5cfdd13aaee0",
   "metadata": {},
   "source": [
    "Replacing NaN values with mode() of the respective column:"
   ]
  },
  {
   "cell_type": "code",
   "execution_count": 42,
   "id": "75699714-9866-466b-b4ec-90eb65644e5c",
   "metadata": {},
   "outputs": [
    {
     "name": "stdout",
     "output_type": "stream",
     "text": [
      "0    6.25\n",
      "Name: Cost, dtype: float64\n"
     ]
    }
   ],
   "source": [
    "print(df['Cost'].mode())"
   ]
  },
  {
   "cell_type": "code",
   "execution_count": 43,
   "id": "339ef046-1e7d-4843-8394-5338bd9dbf24",
   "metadata": {},
   "outputs": [],
   "source": [
    "df['Cost'].fillna(value=df['Cost'].mode(), inplace=True)"
   ]
  },
  {
   "cell_type": "code",
   "execution_count": 48,
   "id": "bcb3878d-8c37-4572-94b6-2ee50f1f0883",
   "metadata": {},
   "outputs": [
    {
     "data": {
      "image/png": "[encoded data removed]",
      "text/plain": [
       "<Figure size 432x288 with 1 Axes>"
      ]
     },
     "metadata": {
      "needs_background": "light"
     },
     "output_type": "display_data"
    }
   ],
   "source": [
    "plt.hist(df['Cost'],bins = 35, alpha = 0.45, color = 'green')\n",
    "plt.xlabel(\"Cost\")\n",
    "plt.title(\"Cost Histogram\")\n",
    "plt.show()"
   ]
  },
  {
   "cell_type": "markdown",
   "id": "f653a345-eaa8-4cf1-9350-958efbc46296",
   "metadata": {},
   "source": [
    "Replacing NaN values with your own values (in this case, max() is used):"
   ]
  },
  {
   "cell_type": "code",
   "execution_count": 45,
   "id": "56d0b4d5-8137-4323-8dea-4bf04773b95f",
   "metadata": {},
   "outputs": [
    {
     "name": "stdout",
     "output_type": "stream",
     "text": [
      "26.0\n"
     ]
    }
   ],
   "source": [
    "print(df['Length'].max())"
   ]
  },
  {
   "cell_type": "code",
   "execution_count": 46,
   "id": "2103730b-fc49-42b6-b08e-921454b107bf",
   "metadata": {},
   "outputs": [],
   "source": [
    "df['Length'].fillna(value=df['Length'].max(), inplace=True)"
   ]
  },
  {
   "cell_type": "code",
   "execution_count": 51,
   "id": "696a1205-314e-4b64-b4d1-d18df76a7c00",
   "metadata": {},
   "outputs": [
    {
     "data": {
      "image/png": "[encoded data removed]",
      "text/plain": [
       "<Figure size 432x288 with 1 Axes>"
      ]
     },
     "metadata": {
      "needs_background": "light"
     },
     "output_type": "display_data"
    }
   ],
   "source": [
    "plt.hist(df['Length'],bins = 35, alpha = 0.45,color = 'yellow')\n",
    "plt.xlabel(\"Length\")\n",
    "plt.title(\"Length Histogram\")\n",
    "plt.show()"
   ]
  },
  {
   "cell_type": "markdown",
   "id": "28194686-f879-48f9-b4a8-57350957caf0",
   "metadata": {},
   "source": [
    "Backward filling:"
   ]
  },
  {
   "cell_type": "code",
   "execution_count": 53,
   "id": "a0bec1e8-0650-427d-8311-ba31d083d208",
   "metadata": {},
   "outputs": [],
   "source": [
    "df['Salsa'].bfill(inplace=True)"
   ]
  },
  {
   "cell_type": "code",
   "execution_count": 60,
   "id": "36cd0661-0006-4c41-ae17-72c971286d15",
   "metadata": {},
   "outputs": [
    {
     "name": "stdout",
     "output_type": "stream",
     "text": [
      "No. of missing values in Salsa Column:0\n"
     ]
    }
   ],
   "source": [
    "print('No. of missing values in Salsa Column:'+ str(df['Salsa'].isna().sum()))"
   ]
  },
  {
   "cell_type": "markdown",
   "id": "86be6d75-ba6f-4077-a2ae-574c291a33cd",
   "metadata": {},
   "source": [
    "Forward filling:"
   ]
  },
  {
   "cell_type": "code",
   "execution_count": 54,
   "id": "4e067157-385e-4d09-b633-edc69a8ff6e0",
   "metadata": {},
   "outputs": [],
   "source": [
    "df['Wrap'].ffill(inplace=True)"
   ]
  },
  {
   "cell_type": "code",
   "execution_count": 61,
   "id": "cb13d0c7-324e-4731-b403-fbfb90f856d0",
   "metadata": {},
   "outputs": [
    {
     "name": "stdout",
     "output_type": "stream",
     "text": [
      "No. of missing values in Wrap Column:0\n"
     ]
    }
   ],
   "source": [
    "print('No. of missing values in Wrap Column:'+ str(df['Wrap'].isna().sum()))"
   ]
  }
 ],
 "metadata": {
  "kernelspec": {
   "display_name": "Python 3 (ipykernel)",
   "language": "python",
   "name": "python3"
  },
  "language_info": {
   "codemirror_mode": {
    "name": "ipython",
    "version": 3
   },
   "file_extension": ".py",
   "mimetype": "text/x-python",
   "name": "python",
   "nbconvert_exporter": "python",
   "pygments_lexer": "ipython3",
   "version": "3.9.12"
  }
 },
 "nbformat": 4,
 "nbformat_minor": 5
}
